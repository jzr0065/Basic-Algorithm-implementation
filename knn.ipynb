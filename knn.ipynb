{
 "cells": [
  {
   "cell_type": "code",
   "execution_count": 9,
   "metadata": {},
   "outputs": [
    {
     "name": "stdout",
     "output_type": "stream",
     "text": [
      "[[ 0.74782693  0.95958862  0.04439512]\n",
      " [ 0.78458955  0.31326454  0.74795682]]\n",
      "[[ 0.22112587  0.45637229]\n",
      " [ 0.89791557 -0.40317937]\n",
      " [-0.60802729  1.02711393]]\n",
      "[[  1.00000000e+00   2.63677968e-16]\n",
      " [  5.55111512e-17   1.00000000e+00]]\n"
     ]
    }
   ],
   "source": [
    "from numpy import *\n",
    "\n",
    "randomMat = mat(random.rand(2,3))\n",
    "print(randomMat)\n",
    "\n",
    "invrandomMat = randomMat.I\n",
    "\n",
    "print(invrandomMat)\n",
    "\n",
    "print(randomMat * invrandomMat)"
   ]
  },
  {
   "cell_type": "code",
   "execution_count": 20,
   "metadata": {
    "scrolled": true
   },
   "outputs": [
    {
     "name": "stdout",
     "output_type": "stream",
     "text": [
      "accuracy: 0.010570824524312896\n"
     ]
    }
   ],
   "source": [
    "from numpy import *\n",
    "import operator\n",
    "import matplotlib.pyplot as plt\n",
    "from os import listdir\n",
    "\n",
    "def createDataset():\n",
    "    groups = array([[1.0,1.1],[1.0,1.0],[0,0],[0,0.1]])\n",
    "    labels = ['A','A','B','B']\n",
    "    return groups,labels\n",
    "\n",
    "def classify0(inX,dataSet,labels,k):\n",
    "    dataSetSize = dataSet.shape[0]\n",
    "    diffMat = tile(inX,(dataSetSize,1)) - dataSet\n",
    "    sqDiffMat = diffMat**2\n",
    "    sqDistances = sqDiffMat.sum(axis=1)\n",
    "    distances = sqDistances**0.5\n",
    "    sortedDistIndicies = distances.argsort()\n",
    "    classCount = {}\n",
    "    for i in range(k):\n",
    "        voteLabel = labels[sortedDistIndicies[i]]\n",
    "        classCount[voteLabel] = classCount.get(voteLabel,0) + 1\n",
    "    sortedClassCount = sorted(classCount.items(),key = operator.itemgetter(1),reverse = True)\n",
    "    return sortedClassCount[0][0]\n",
    "\n",
    "def file2matrix(filename):\n",
    "    fr = open(filename)\n",
    "    numberOfLines = len(fr.readlines())\n",
    "    returnMat = zeros((numberOfLines,3))\n",
    "    classLabelVector = []\n",
    "    fr = open(filename)\n",
    "    index = 0\n",
    "    for line in fr.readlines():\n",
    "        line = line.strip()\n",
    "        listFromLine = line.split('\\t')\n",
    "        returnMat[index,:] = listFromLine[0:3]\n",
    "        classLabelVector.append(listFromLine[-1])\n",
    "        index += 1\n",
    "    return returnMat,classLabelVector\n",
    "\n",
    "def autoNorm(dataSet):\n",
    "    minVals = dataSet.min(0)\n",
    "    maxVals = dataSet.max(0)\n",
    "    ranges = maxVals - minVals\n",
    "    normDataSet = zeros(shape(dataSet))\n",
    "    m = dataSet.shape[0]\n",
    "    normDataSet = dataSet - tile(minVals,(m,1))\n",
    "    normDataSet = normDataSet / tile(ranges,(m,1))\n",
    "    return normDataSet,ranges,minVals\n",
    "\n",
    "def datingClassTest():\n",
    "    hoRatio = 0.10\n",
    "    datingDataMat,datingLabels = file2matrix('datingTestSet.txt')\n",
    "    normMat,ranges,minVals = autoNorm(datingDataMat)\n",
    "    m = normMat.shape[0]\n",
    "    numTestVecs = int(m*hoRatio)\n",
    "    errorCount = 0.0\n",
    "    for i in range(numTestVecs):\n",
    "        classifierResult = classify0(normMat[i,:],normMat[numTestVecs:m,:],\n",
    "                                    datingLabels[numTestVecs:m],3)\n",
    "        if(classifierResult != datingLabels[i]):\n",
    "            errorCount += 1.0\n",
    "    print(errorCount)\n",
    "    print(\"the error rate is :\",(errorCount/float(numTestVecs)))\n",
    "    \n",
    "def classifyPerson():\n",
    "     resultList = ['not at all','in small doses', 'in large doses']\n",
    "     percentTats = float(input(\"percentage of time spent playing video games?\"))\n",
    "     ffMiles = float(input(\"frequent flier miles earned per year?\"))\n",
    "     iceCream = float(input(\"liters of ice cream consumed per year?\"))\n",
    "     datingDataMat,datingLabels = file2matrix('datingTestSet.txt')\n",
    "     normMat, ranges, minVals = autoNorm(datingDataMat)\n",
    "     inArr = array([ffMiles, percentTats, iceCream])\n",
    "     classifierResult = classify0((inArr-minVals)/ranges,normMat,datingLabels,3)\n",
    "     print ('You will probably like this person:',classifierResult)\n",
    "        \n",
    "def img2vector(filename):\n",
    "    returnVect = zeros((1,1024))\n",
    "    fr = open(filename)\n",
    "    for i in range(32):\n",
    "        lineStr = fr.readline()\n",
    "        for j in range(32):\n",
    "            returnVect[0,32*i+j] = int(lineStr[j])\n",
    "    return returnVect\n",
    "\n",
    "def handwritingClassTest():\n",
    "    hwLabels = []\n",
    "    trainingFileList = listdir('trainingDigits')\n",
    "    m = len(trainingFileList)\n",
    "    trainingMat = zeros((m,1024))\n",
    "    for i in range(m):\n",
    "        fileNameStr = trainingFileList[i]\n",
    "        fileStr = fileNameStr.split('.')[0]\n",
    "        classNumStr = int(fileStr.split('_')[0])\n",
    "        hwLabels.append(classNumStr)\n",
    "        trainingMat[i,:] = img2vector('trainingDigits/%s' % fileNameStr)\n",
    "        testFileList = listdir('testDigits')\n",
    "        errorCount = 0.0\n",
    "        mTest = len(testFileList)\n",
    "    for i in range(mTest):\n",
    "        fileNameStr = testFileList[i]\n",
    "        fileStr = fileNameStr.split('.')[0]\n",
    "        classNumStr = int(fileStr.split('_')[0])\n",
    "        vectorUnderTest = img2vector('testDigits/%s' % fileNameStr)\n",
    "        classifierResult = classify0(vectorUnderTest,trainingMat,hwLabels,3)\n",
    "        if(classifierResult != classNumStr):\n",
    "                errorCount += 1.0\n",
    "    print(\"accuracy:\",errorCount/float(mTest))\n",
    "        \n",
    "        \n",
    "\n",
    "handwritingClassTest()\n",
    "#classifyPerson()"
   ]
  },
  {
   "cell_type": "code",
   "execution_count": null,
   "metadata": {
    "collapsed": true
   },
   "outputs": [],
   "source": []
  }
 ],
 "metadata": {
  "kernelspec": {
   "display_name": "Python 3",
   "language": "python",
   "name": "python3"
  },
  "language_info": {
   "codemirror_mode": {
    "name": "ipython",
    "version": 3
   },
   "file_extension": ".py",
   "mimetype": "text/x-python",
   "name": "python",
   "nbconvert_exporter": "python",
   "pygments_lexer": "ipython3",
   "version": "3.6.1"
  }
 },
 "nbformat": 4,
 "nbformat_minor": 2
}
