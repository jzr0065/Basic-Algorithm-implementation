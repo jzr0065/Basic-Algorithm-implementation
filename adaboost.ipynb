{
 "cells": [
  {
   "cell_type": "code",
   "execution_count": null,
   "metadata": {
    "collapsed": true
   },
   "outputs": [],
   "source": [
    "def loadSimpleData():\n",
    "    dataMat = matrix([[1.,2.1],\n",
    "                     [2.,1.1],\n",
    "                     [1.3,1.],\n",
    "                     [1.,1.],\n",
    "                     [2.,1.]])\n",
    "    classLabels = [1.0,1.0,-1.0,-1.0,1.0]\n",
    "    return dataMat,classLabels\n",
    "\n",
    "def stumpClassify(dataMatrix,dimen,threshVal,threshineq):\n",
    "    retArray = ones((shape(dataMatrix)[0],1))\n",
    "    if threshIneq == 'lt':\n",
    "        retArray[dataMatrix[:,dimen] <= threshVal] = -1.0\n",
    "    else:\n",
    "        retArray[dataMatrix[:,dimen] <= threshVal] = -1.0\n",
    "    return retArray\n",
    "\n",
    "def buildStump(dataArray,classLabels,D):\n",
    "    dataMatrix = mat(dataArray)\n",
    "    labelMat = mat(classLabels).T\n",
    "    m,n = shape(dataMatrix)\n",
    "    numSteps =10.0\n",
    "    bestStump = {}\n",
    "    bestClasEst = mat(zeros((m,1)))\n",
    "    minError = inf\n",
    "    for i range()"
   ]
  },
  {
   "cell_type": "code",
   "execution_count": null,
   "metadata": {
    "collapsed": true
   },
   "outputs": [],
   "source": []
  }
 ],
 "metadata": {
  "kernelspec": {
   "display_name": "Python 3",
   "language": "python",
   "name": "python3"
  },
  "language_info": {
   "codemirror_mode": {
    "name": "ipython",
    "version": 3
   },
   "file_extension": ".py",
   "mimetype": "text/x-python",
   "name": "python",
   "nbconvert_exporter": "python",
   "pygments_lexer": "ipython3",
   "version": "3.6.1"
  }
 },
 "nbformat": 4,
 "nbformat_minor": 2
}
